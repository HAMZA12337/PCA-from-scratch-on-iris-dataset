{
 "cells": [
  {
   "cell_type": "code",
   "execution_count": 3,
   "metadata": {},
   "outputs": [],
   "source": [
    "## pandas,numpy,matplotlib,seabron,sklearn\n",
    "\n",
    "import pandas as pd \n",
    "import numpy as np\n",
    "import matplotlib.pyplot as plt;\n",
    "import seaborn as sns"
   ]
  },
  {
   "cell_type": "code",
   "execution_count": null,
   "metadata": {},
   "outputs": [],
   "source": [
    "# chargement des données\n",
    "iris = pd.read_csv('iris.csv')\n",
    "\n",
    "# sélection des variables pertinentes\n",
    "X = iris[['sepal.length', 'sepal.width', 'petal.length', 'petal.width']]\n",
    "\n",
    "# centrage et réduction des données\n",
    "X = (X - X.mean()) / X.std()\n",
    "\n",
    "# calcul de la matrice de covariance\n",
    "cov_matrix = np.cov(X, rowvar=False)\n",
    "\n",
    "# calcul des vecteurs propres et des valeurs propres\n",
    "eigen_values, eigen_vectors = np.linalg.eig(cov_matrix)\n",
    "\n",
    "# tri des vecteurs propres selon les valeurs propres\n",
    "sorted_indices = eigen_values.argsort()[::-1]\n",
    "sorted_eigen_vectors = eigen_vectors[:, sorted_indices]\n",
    "\n",
    "# choix des vecteurs propres les plus importants\n",
    "k = 2\n",
    "selected_eigen_vectors = sorted_eigen_vectors[:, :k]\n",
    "\n",
    "# projection des données sur les vecteurs propres sélectionnés\n",
    "new_X = X.dot(selected_eigen_vectors)\n",
    "\n",
    "# affichage du résultat\n",
    "print(new_X.head())\n"
   ]
  },
  {
   "cell_type": "code",
   "execution_count": null,
   "metadata": {},
   "outputs": [],
   "source": [
    "iris = pd.read_csv('iris.csv')\n",
    "# Créer une fonction centrer qui centre les données :\n",
    "def centrer(donnees):\n",
    "  \n",
    "    return donnees - donnees.mean()\n",
    "\n",
    "# Créer la fonction réduite qui retourne la matrice des données réduites :\n",
    "def reduire(donnees):\n",
    "  \n",
    "    return donnees / donnees.std()\n",
    "\n",
    "# Calculer et interpréter la matrice des corrélations. Quelles sont les variables les plus corrélées ?\n",
    "# Calculer la matrice de corrélation\n",
    "corr_matrix = iris.corr()\n",
    "\n",
    "# Visualiser la matrice de corrélation\n",
    "sns.heatmap(corr_matrix, annot=True)\n",
    "\n",
    "# Les variables les plus corrélées sont petal_length et petal_width (0.96).\n",
    "\n",
    "# Analyser les valeurs propres (np.linalg.eig). Quel est le pourcentage d'inertie expliquée par chaque axe ? Combien d'axes peut-on conserver ?\n",
    "\n",
    "# Sélectionner les variables pertinentes\n",
    "donnees = iris[['sepal.length', 'sepal.width', 'petal.length', 'petal.width']]\n",
    "\n",
    "# Centrer et réduire les données\n",
    "donnees_centrees = centrer(donnees)\n",
    "donnees_reduites = reduire(donnees_centrees)\n",
    "\n",
    "# Calculer la matrice de covariance\n",
    "cov_matrix = donnees_reduites.cov()\n",
    "\n",
    "# Calculer les valeurs propres et les vecteurs propres\n",
    "valeurs_propres, vecteurs_propres = np.linalg.eig(cov_matrix)\n",
    "\n",
    "# Calculer le pourcentage d'inertie expliquée par chaque axe\n",
    "inertie = valeurs_propres / np.sum(valeurs_propres)\n",
    "print(inertie)\n",
    "\n",
    "# On peut conserver 2 axes, car ils expliquent plus de 95% de la variance totale."
   ]
  },
  {
   "cell_type": "code",
   "execution_count": 3,
   "metadata": {},
   "outputs": [
    {
     "ename": "NameError",
     "evalue": "name 'sns' is not defined",
     "output_type": "error",
     "traceback": [
      "\u001b[1;31m---------------------------------------------------------------------------\u001b[0m",
      "\u001b[1;31mNameError\u001b[0m                                 Traceback (most recent call last)",
      "Cell \u001b[1;32mIn[3], line 2\u001b[0m\n\u001b[0;32m      1\u001b[0m \u001b[39m# Tracer les valeurs propres\u001b[39;00m\n\u001b[1;32m----> 2\u001b[0m sns\u001b[39m.\u001b[39mbarplot(x\u001b[39m=\u001b[39m\u001b[39mlist\u001b[39m(\u001b[39mrange\u001b[39m(\u001b[39m1\u001b[39m, \u001b[39m5\u001b[39m)), y\u001b[39m=\u001b[39mvaleurs_propres, color\u001b[39m=\u001b[39m\u001b[39m'\u001b[39m\u001b[39mb\u001b[39m\u001b[39m'\u001b[39m)\n\u001b[0;32m      3\u001b[0m plt\u001b[39m.\u001b[39mxlabel(\u001b[39m'\u001b[39m\u001b[39mComposante principale\u001b[39m\u001b[39m'\u001b[39m)\n\u001b[0;32m      4\u001b[0m plt\u001b[39m.\u001b[39mylabel(\u001b[39m'\u001b[39m\u001b[39mValeur propre\u001b[39m\u001b[39m'\u001b[39m)\n",
      "\u001b[1;31mNameError\u001b[0m: name 'sns' is not defined"
     ]
    }
   ],
   "source": [
    "# Tracer les valeurs propres\n",
    "sns.barplot(x=list(range(1, 5)), y=valeurs_propres, color='b')\n",
    "plt.xlabel('Composante principale')\n",
    "plt.ylabel('Valeur propre')\n",
    "plt.title('Valeurs propres principales')\n",
    "\n",
    "# Les deux premières composantes principales ont des valeurs propres significativement plus élevées que les deux dernières, ce qui suggère qu'elles sont les plus importantes.\n"
   ]
  },
  {
   "cell_type": "code",
   "execution_count": null,
   "metadata": {},
   "outputs": [],
   "source": [
    "# Les composantes principales sont les deux premiers vecteurs propres.\n",
    "cp1 = vecteurs_propres[:, 0]\n",
    "cp2 = vecteurs_propres[:, 1]\n",
    "\n",
    "# Calculer les coordonnées des individus sur le premier axe\n",
    "donnees_cp1 = donnees_reduites.dot(cp1)\n",
    "contributions_cp1 = donnees_cp1**2 / (len(donnees_cp1)*valeurs_propres[0])\n",
    "\n",
    "# Trou\n",
    "\n",
    "\n"
   ]
  }
 ],
 "metadata": {
  "kernelspec": {
   "display_name": "Python 3",
   "language": "python",
   "name": "python3"
  },
  "language_info": {
   "codemirror_mode": {
    "name": "ipython",
    "version": 3
   },
   "file_extension": ".py",
   "mimetype": "text/x-python",
   "name": "python",
   "nbconvert_exporter": "python",
   "pygments_lexer": "ipython3",
   "version": "3.10.10"
  },
  "orig_nbformat": 4
 },
 "nbformat": 4,
 "nbformat_minor": 2
}
